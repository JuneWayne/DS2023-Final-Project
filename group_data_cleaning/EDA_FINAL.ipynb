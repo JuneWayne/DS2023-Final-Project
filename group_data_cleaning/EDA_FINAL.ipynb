{
  "nbformat": 4,
  "nbformat_minor": 0,
  "metadata": {
    "colab": {
      "private_outputs": true,
      "provenance": []
    },
    "kernelspec": {
      "name": "python3",
      "display_name": "Python 3"
    },
    "language_info": {
      "name": "python"
    }
  },
  "cells": [
    {
      "cell_type": "code",
      "execution_count": null,
      "metadata": {
        "id": "8rBC4IArFE6c"
      },
      "outputs": [],
      "source": [
        "# Loading libraries and packages\n",
        "import pandas as pd\n",
        "import numpy as np\n",
        "import matplotlib.pyplot as plt\n",
        "import seaborn as sns"
      ]
    },
    {
      "cell_type": "code",
      "source": [
        "df= pd.read_csv('aclr.csv')\n",
        "df.head()"
      ],
      "metadata": {
        "id": "wX9LebCkFOs2"
      },
      "execution_count": null,
      "outputs": []
    },
    {
      "cell_type": "markdown",
      "source": [
        "# DATA CLEANING"
      ],
      "metadata": {
        "id": "LWO06K4YFmNq"
      }
    },
    {
      "cell_type": "code",
      "source": [
        "df.columns[df.isnull().all()]# these are columns that have no data ( we need to drop)"
      ],
      "metadata": {
        "id": "bNwYJgbFFzBP"
      },
      "execution_count": null,
      "outputs": []
    },
    {
      "cell_type": "code",
      "source": [
        "df.drop(columns=['redcap_repeat_instrument', 'tss_tegner'], inplace=True)"
      ],
      "metadata": {
        "id": "ZqEtKpcDGZYI"
      },
      "execution_count": null,
      "outputs": []
    },
    {
      "cell_type": "code",
      "source": [
        "df.info()"
      ],
      "metadata": {
        "id": "iEo2AmpqFw1c"
      },
      "execution_count": null,
      "outputs": []
    },
    {
      "cell_type": "code",
      "source": [
        "df.isnull().sum() # looking for missing data"
      ],
      "metadata": {
        "id": "LbKdXcRTFl7F"
      },
      "execution_count": null,
      "outputs": []
    },
    {
      "cell_type": "code",
      "source": [
        "missing_percent = df.isnull().sum() / len(df) * 100\n",
        "print(missing_percent.nsmallest(10))"
      ],
      "metadata": {
        "id": "VwcsBCOaGrN_"
      },
      "execution_count": null,
      "outputs": []
    },
    {
      "cell_type": "markdown",
      "source": [
        "# Seeing values to make the nan as Not reported"
      ],
      "metadata": {
        "id": "OnWpIibkOL7h"
      }
    },
    {
      "cell_type": "code",
      "source": [
        "print(df[\"sex_dashboard\"].unique())\n",
        "print(df['visit_sex'].unique())\n",
        "print(df['age_group_dashboard_use'].unique())\n",
        "print(df['graft_dashboard2'].unique())\n",
        "print(df['visit_graft'].unique())"
      ],
      "metadata": {
        "id": "jg8AVBlYIGIB"
      },
      "execution_count": null,
      "outputs": []
    },
    {
      "cell_type": "code",
      "source": [
        "print(df['redcap_event_name'].unique())"
      ],
      "metadata": {
        "id": "-On7pGoWLFs7"
      },
      "execution_count": null,
      "outputs": []
    },
    {
      "cell_type": "code",
      "source": [
        "print(df['strength_testing_complete'].unique())"
      ],
      "metadata": {
        "id": "lsNM5NnyM3WW"
      },
      "execution_count": null,
      "outputs": []
    },
    {
      "cell_type": "code",
      "source": [
        "print(df['med_meniscus'].unique())\n",
        "print(df['lat_meniscus'].unique())"
      ],
      "metadata": {
        "id": "gUpblngkOzca"
      },
      "execution_count": null,
      "outputs": []
    },
    {
      "cell_type": "markdown",
      "source": [
        "1. Gender, Age Groups,  ( make the nan as Not reported) ( input)"
      ],
      "metadata": {
        "id": "eq8f1UzvOWb2"
      }
    },
    {
      "cell_type": "code",
      "source": [
        "df['age_group_dashboard_use'] = df['age_group_dashboard_use'].fillna('Not Reported')\n",
        "df['sex_dashboard'] = df['sex_dashboard'].fillna('Not Reported')\n",
        "df['visit_sex'] = df['visit_sex'].fillna('Not Reported')"
      ],
      "metadata": {
        "id": "z75LKhVsPySk"
      },
      "execution_count": null,
      "outputs": []
    },
    {
      "cell_type": "code",
      "source": [
        "# I've also included a visual aid of how many missing values we have for each variable\n",
        "# Bar plot of missing values for each column\n",
        "missing_vals = df.isnull().sum()\n",
        "missing_vals = missing_vals[missing_vals > 0] # making sure to inlcude only the missing values ( no variables with complete)\n",
        "missing_vals.sort_values(inplace=True)\n",
        "\n",
        "plt.figure(figsize=(14, 10))\n",
        "missing_vals.plot(kind='barh', color='lightcoral') # making this horizontal bargraph to enhance readability\n",
        "plt.title('Missing Values Visualized', fontsize=20)# let's make sure the title is big\n",
        "plt.xlabel('# of Missing Values ', fontsize=10)\n",
        "plt.ylabel('Columns', fontsize=10)\n",
        "plt.xticks(fontsize=8)\n",
        "plt.yticks(fontsize=8)\n",
        "plt.gca().invert_yaxis() # we need this code to ensure that we have the missing values inverted\n",
        "plt.show()"
      ],
      "metadata": {
        "id": "RGErH6G8Q1Gn"
      },
      "execution_count": null,
      "outputs": []
    },
    {
      "cell_type": "code",
      "source": [
        "# This leads us to see the distribution of the data and see outliers present ( use boxplot since they do a good job detecting/visualizing outliers)\n",
        "plt.figure(figsize=(12, 12))\n",
        "sns.boxplot(data=df, orient=\"h\")\n",
        "plt.title(\"Outlier present\")\n",
        "plt.show()"
      ],
      "metadata": {
        "id": "l3eKr3MGRKy4"
      },
      "execution_count": null,
      "outputs": []
    },
    {
      "cell_type": "code",
      "source": [
        "# Let's split the categorical and numerical columns\n",
        "categorical_columns = df.select_dtypes(include=['object']).columns # this includes strings\n",
        "numerical_columns = df.select_dtypes(include=['float64', 'int64']).columns # these are numbers with meaning\n",
        "\n",
        "# Now let's impute categorical(mode) and numerical columns (median)\n",
        "df[categorical_columns] = df[categorical_columns].fillna(df[categorical_columns].mode().iloc[0])\n",
        "df[numerical_columns] = df[numerical_columns].fillna(df[numerical_columns].median())"
      ],
      "metadata": {
        "id": "OLAI20eKRbAf"
      },
      "execution_count": null,
      "outputs": []
    },
    {
      "cell_type": "code",
      "source": [
        "df.isnull().sum()"
      ],
      "metadata": {
        "id": "xqTAdm4VRlos"
      },
      "execution_count": null,
      "outputs": []
    },
    {
      "cell_type": "code",
      "source": [
        "# distribtion of grafttype by age groups\n",
        "\n",
        "plt.figure(figsize=(12, 6))\n",
        "sns.countplot(data=df, x='graft_dashboard2', hue='age_group_dashboard_use')\n",
        "plt.title(\"Distribution by Age Group\")\n",
        "plt.show()"
      ],
      "metadata": {
        "id": "xkB7bBCtRmqN"
      },
      "execution_count": null,
      "outputs": []
    },
    {
      "cell_type": "code",
      "source": [
        "# distrubtion of grafttype by sex\n",
        "plt.figure(figsize=(12, 6))\n",
        "sns.countplot(data=df, x='age_group_dashboard_use', hue='visit_sex')\n",
        "plt.title(\"Distribution of Age by Sex\")\n",
        "plt.show()"
      ],
      "metadata": {
        "id": "Lz3hINwjSdSQ"
      },
      "execution_count": null,
      "outputs": []
    },
    {
      "cell_type": "code",
      "source": [
        "print(df['tss_dashboard'].unique()) # time since surgery"
      ],
      "metadata": {
        "id": "KRbX_AxgTXUA"
      },
      "execution_count": null,
      "outputs": []
    },
    {
      "cell_type": "code",
      "source": [
        "plt.figure(figsize=(12, 6))\n",
        "sns.histplot(data=df, x='koos_pain', hue='tss_dashboard', multiple='stack')  # or 'dodge'\n",
        "plt.title(\"Distribution of KOOS Pain Scores by Time Since Surgery\")\n",
        "plt.xlabel(\"KOOS Pain Score\")\n",
        "plt.ylabel(\"Count\")\n",
        "plt.legend(df['tss_dashboard'])\n",
        "plt.show()\n"
      ],
      "metadata": {
        "id": "qdCi71uFT08H"
      },
      "execution_count": null,
      "outputs": []
    },
    {
      "cell_type": "code",
      "source": [
        "# visualizing the distirbution of strength testing, tss ( multiple)\n",
        "\n",
        "fig,axs = plt.subplots(3,3, figsize=(20, 15))\n",
        "\n",
        "sns.histplot(data=df, x='acl_sh', hue= 'tss_dashboard', multiple='stack', ax=axs[0,0], legend=False)\n",
        "axs[0,0].set_title(\"ACL Strength\")\n",
        "\n",
        "sns.histplot(data=df, x='acl_th', hue= 'tss_dashboard', multiple='stack', ax=axs[0,1], legend=False)\n",
        "\n",
        "sns.histplot(data=df, x='acl_ch', hue= 'tss_dashboard', multiple='stack', ax=axs[0,2], legend=False)\n",
        "\n",
        "sns.histplot(data=df, x='acl_ext_mvic_90', hue= 'tss_dashboard', multiple='stack', ax=axs[1,0], legend=False)\n",
        "\n",
        "sns.histplot(data=df, x='acl_ext_mvic_60', hue= 'tss_dashboard', multiple='stack', ax=axs[1,1], legend=False)\n",
        "\n",
        "sns.histplot(data=df, x='acl_flex_mvic_60', hue= 'tss_dashboard', multiple='stack', ax=axs[1,2], legend=False)\n",
        "\n",
        "sns.histplot(data=df, x='acl_ext_isok_60', hue= 'tss_dashboard', multiple='stack', ax=axs[2,0], legend=False)\n",
        "\n",
        "sns.histplot(data=df, x='acl_flex_isok_60', hue= 'tss_dashboard', multiple='stack', ax=axs[2,1])\n",
        "\n",
        "plt.show()"
      ],
      "metadata": {
        "id": "C4AwrILbW7oj"
      },
      "execution_count": null,
      "outputs": []
    }
  ]
}